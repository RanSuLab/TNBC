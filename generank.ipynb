{
 "cells": [
  {
   "cell_type": "code",
   "execution_count": null,
   "metadata": {
    "collapsed": true
   },
   "outputs": [],
   "source": [
    "import numpy as np\n",
    "import pandas as pd\n",
    "from pandas import Series\n",
    "from numpy import float32\n",
    "import math\n",
    "from numpy import inf\n",
    "import warnings\n",
    "import time\n",
    "import os\n",
    "from collections import Counter\n",
    "from sklearn.metrics import accuracy_score\n",
    "from sklearn.model_selection import KFold\n",
    "from sklearn.model_selection import StratifiedKFold\n",
    "from sklearn.ensemble import RandomForestClassifier\n",
    "warnings.filterwarnings(\"ignore\")"
   ]
  },
  {
   "cell_type": "code",
   "execution_count": null,
   "metadata": {
    "collapsed": true
   },
   "outputs": [],
   "source": [
    "expression=np.loadtxt('模块初筛后基因表达数据.csv',dtype=float32,delimiter=\",\")\n",
    "feature = np.array(expression[:,:-1])\n",
    "labels = np.array(expression[:,-1],dtype=int)"
   ]
  },
  {
   "cell_type": "code",
   "execution_count": null,
   "metadata": {
    "collapsed": true
   },
   "outputs": [],
   "source": [
    "def get_count_by_counter(l):\n",
    "    t1 = time.time()\n",
    "    count = Counter(l)   \n",
    "    t2 = time.time()\n",
    "    # print (t2-t1)\n",
    "    count_dict = dict(count)   \n",
    "    return count_dict"
   ]
  },
  {
   "cell_type": "code",
   "execution_count": null,
   "metadata": {
    "collapsed": true
   },
   "outputs": [],
   "source": [
    "def get_G():\n",
    "    tom = np.loadtxt('TOM.csv',dtype=float32,delimiter=\",\")\n",
    "    tom = np.array(tom)\n",
    "    for i in range(tom.shape[0]):\n",
    "        tom[i,i]=0\n",
    "    add =np.sum(tom)\n",
    "    number = tom.shape[0]*tom.shape[1]-tom.shape[0]\n",
    "    mean = add/number\n",
    "    for i in range(tom.shape[0]):\n",
    "        for j in range(tom.shape[1]):\n",
    "            if tom[i,j]>=mean:\n",
    "                tom[i,j]=1\n",
    "            else:\n",
    "                tom[i,j]=0\n",
    "    return tom"
   ]
  },
  {
   "cell_type": "code",
   "execution_count": null,
   "metadata": {
    "collapsed": true
   },
   "outputs": [],
   "source": [
    "def getlog2fc(tag1):\n",
    "    tumor_1 = train[train[:,-1]==tag1]   \n",
    "    tumor_2 = train[train[:,-1]!=tag1]\n",
    "    tumor_mean1 = np.mean(tumor_1[:,:-1],0)\n",
    "    tumor_mean2 = np.mean(tumor_2[:,:-1],0)\n",
    "    fc = np.log2(tumor_mean1/tumor_mean2)\n",
    "    fc[tumor_mean1==0]=0\n",
    "    fc[tumor_mean2==0]=0\n",
    "    return fc"
   ]
  },
  {
   "cell_type": "code",
   "execution_count": null,
   "metadata": {
    "collapsed": true
   },
   "outputs": [],
   "source": [
    "def generank(G,fc,d,max_degree=inf):\n",
    "    fc = np.abs(fc)\n",
    "    norm_fc =fc/np.max(fc)  \n",
    "    colsum = np.sum(G,0) \n",
    "    degrees = np.minimum(max_degree,np.maximum(1,colsum))\n",
    "    dimG =G.shape[1]\n",
    "    A = np.eye(dimG) \n",
    "    D1 = np.zeros((dimG,dimG))\n",
    "    np.fill_diagonal(D1,1.0/degrees)\n",
    "    A = A - d*np.dot(G.T,D1)  \n",
    "    b = (1-d) * norm_fc\n",
    "    r = np.linalg.solve(A,b)    \n",
    "    return r"
   ]
  },
  {
   "cell_type": "code",
   "execution_count": null,
   "metadata": {
    "collapsed": true
   },
   "outputs": [],
   "source": [
    "def tempranking(r):\n",
    "    lis=[1]*len(r)\n",
    "    obj = pd.Series([a / b for a, b in zip(lis, r)])\n",
    "    order = []\n",
    "    rr = obj.rank()\n",
    "    for i in range(len(rr)):\n",
    "        order.append(rr[i])\n",
    "    lis2 =[1]*len(order)\n",
    "    ranks = [a / b for a, b in zip(lis2, order)]   \n",
    "    return ranks"
   ]
  },
  {
   "cell_type": "code",
   "execution_count": null,
   "metadata": {
    "collapsed": true
   },
   "outputs": [],
   "source": [
    "def mkdir(path):\n",
    "    isExists=os.path.exists(path)\n",
    "    if not isExists:\n",
    "        os.makedirs(path) \n",
    "    else:\n",
    "        return False\n",
    "mkpath = \"xx\"\n",
    "mkdir(mkpath)"
   ]
  },
  {
   "cell_type": "code",
   "execution_count": null,
   "metadata": {
    "collapsed": true
   },
   "outputs": [],
   "source": [
    "from sklearn.model_selection import StratifiedKFold\n",
    "#skf = StratifiedKFold(n_splits=10)\n",
    "skf = KFold(n_splits=10,random_state=0)\n",
    "d=0.5\n",
    "rank =[]\n",
    "G = get_G()\n",
    "for train_index,test_index in skf.split(feature,labels):\n",
    "    train = expression[train_index]\n",
    "    y =labels[train_index]\n",
    "    num = get_count_by_counter(y) \n",
    "    tag = train.shape[0]\n",
    "   # tag = list()\n",
    "    #for i in range(len(np.unique(y))):\n",
    "     #   tag.append(num[i+1])\n",
    "    #min_multi =mcm(tag) \n",
    "    fc =list()\n",
    "    r = list()\n",
    "       \n",
    "    for i in range(1,7,1):\n",
    "            fc.append(getlog2fc(i))\n",
    "            \n",
    "    for i in range(6):\n",
    "        rp =generank(G,fc[i],d,max_degree=inf)\n",
    "        rp =(rp-min(rp))/(max(rp)-min(rp))\n",
    "        coef=num[i+1]/tag   \n",
    "        \n",
    "        r.append(rp*coef)\n",
    "        \n",
    "    rank.append(np.sum(r,0)/6)\n",
    "rank = np.sum(rank,0)/10\n",
    "score = np.array((rank-min(rank))/(max(rank)-min(rank)))\n",
    "#score=tempranking(rank)\n",
    "outfile ='xx.csv'\n",
    "np.savetxt(outfile, score, delimiter=\",\")  "
   ]
  }
 ],
 "metadata": {
  "kernelspec": {
   "display_name": "Python 3",
   "language": "python",
   "name": "python3"
  },
  "language_info": {
   "codemirror_mode": {
    "name": "ipython",
    "version": 3
   },
   "file_extension": ".py",
   "mimetype": "text/x-python",
   "name": "python",
   "nbconvert_exporter": "python",
   "pygments_lexer": "ipython3",
   "version": "3.6.1"
  }
 },
 "nbformat": 4,
 "nbformat_minor": 2
}
