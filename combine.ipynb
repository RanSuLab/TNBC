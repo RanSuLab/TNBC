{
 "cells": [
  {
   "cell_type": "code",
   "execution_count": null,
   "metadata": {
    "collapsed": true
   },
   "outputs": [],
   "source": [
    "import numpy as np\n",
    "import pandas as pd\n",
    "from pandas import Series\n",
    "from numpy import float32\n",
    "import math\n",
    "from numpy import inf\n",
    "import warnings\n",
    "import time\n",
    "import os\n",
    "from collections import Counter\n",
    "from sklearn.metrics import accuracy_score\n",
    "from sklearn.model_selection import KFold\n",
    "from sklearn.model_selection import StratifiedKFold\n",
    "from sklearn.ensemble import RandomForestClassifier\n",
    "warnings.filterwarnings(\"ignore\")"
   ]
  },
  {
   "cell_type": "code",
   "execution_count": null,
   "metadata": {
    "collapsed": true
   },
   "outputs": [],
   "source": [
    "expression=np.loadtxt('模块初筛后基因表达数据.csv',dtype=float32,delimiter=\",\")\n",
    "feature = np.array(expression[:,:-1])\n",
    "labels = np.array(expression[:,-1],dtype=int)"
   ]
  },
  {
   "cell_type": "code",
   "execution_count": null,
   "metadata": {
    "collapsed": true
   },
   "outputs": [],
   "source": [
    "def feature_ranking(F):\n",
    "    idx = np.argsort(F)   \n",
    "    return idx[::-1]    "
   ]
  },
  {
   "cell_type": "code",
   "execution_count": null,
   "metadata": {
    "collapsed": true
   },
   "outputs": [],
   "source": [
    "acc_list_1 =list()\n",
    "def main1():\n",
    "    expression=np.loadtxt('模块初筛后基因表达数据.csv',delimiter=',')\n",
    "    X=np.array(expression[:,:-1],dtype=float32)\n",
    "    y=np.array(expression[:,-1], dtype=int)\n",
    "    n_samples, n_features = X.shape    \n",
    "    kf =KFold(n_splits=10,random_state=0)\n",
    "    score_1 =np.loadtxt('generank分数.csv',delimiter=',')\n",
    "    score_1 = np.array(score_1,dtype=float32)\n",
    "    score_1 = (score_1-min(score_1))/(max(score_1)-min(score_1))\n",
    "    score_2 = np.loadtxt('nn分数.csv',delimiter=',') \n",
    "    score_2 = np.array(score_2,dtype=float32)\n",
    "    score_2 = (score_2-min(score_2))/(max(score_2)-min(score_2))\n",
    "    score =np.power(score_2,0.2)+np.power(score_1,5)\n",
    " \n",
    "   \n",
    "    np.savetxt('排序分数.csv',score,delimiter=\",\")\n",
    "    \n",
    "    feature_number_list =list(range(5,21,1))+list(range(30,101,10))\n",
    "    \n",
    "    \n",
    "    for feature_number in feature_number_list: \n",
    "        clf = RandomForestClassifier(n_estimators=200,max_features='sqrt', oob_score=True,random_state=120) \n",
    "        correct = 0\n",
    "        for train, test in kf.split(X):\n",
    "            idx = feature_ranking(score)  \n",
    "            selected_features = X[:, idx[0:feature_number]] \n",
    "            clf.fit(selected_features[train], y[train])  \n",
    "            y_predict = clf.predict(selected_features[test])\n",
    "            acc = accuracy_score(y[test], y_predict) \n",
    "            correct = correct + acc\n",
    "        acc_list_1.append(float(correct)/10)\n",
    "        print('{:6f}'.format(float(correct)/10))\n",
    "   # np.savetxt('xx.csv',np.array(acc_list_1),delimiter=',')\n",
    "main1()"
   ]
  }
 ],
 "metadata": {
  "kernelspec": {
   "display_name": "Python 3",
   "language": "python",
   "name": "python3"
  },
  "language_info": {
   "codemirror_mode": {
    "name": "ipython",
    "version": 3
   },
   "file_extension": ".py",
   "mimetype": "text/x-python",
   "name": "python",
   "nbconvert_exporter": "python",
   "pygments_lexer": "ipython3",
   "version": "3.6.1"
  }
 },
 "nbformat": 4,
 "nbformat_minor": 2
}
