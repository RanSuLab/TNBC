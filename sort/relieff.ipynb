{
 "cells": [
  {
   "cell_type": "code",
   "execution_count": null,
   "metadata": {
    "collapsed": true
   },
   "outputs": [],
   "source": [
    "import numpy as np\n",
    "from sklearn.metrics.pairwise import pairwise_distances\n",
    "import csv\n",
    "from random import randrange\n",
    "from sklearn import preprocessing\n",
    "from sklearn.metrics import accuracy_score\n",
    "from sklearn.model_selection import KFold\n",
    "from numpy import float32\n",
    "import warnings\n",
    "from sklearn.ensemble import RandomForestClassifier\n",
    "warnings.filterwarnings('ignore')"
   ]
  },
  {
   "cell_type": "code",
   "execution_count": null,
   "metadata": {
    "collapsed": true
   },
   "outputs": [],
   "source": [
    "def distanceNorm(Norm,D_value):  \n",
    "    # Norm for distance  \n",
    "    if Norm == '1':  \n",
    "        counter = np.absolute(D_value);    \n",
    "        counter = np.sum(counter);  \n",
    "    elif Norm == '2':  \n",
    "        counter = np.power(D_value,2);  \n",
    "        counter = np.sum(counter);  \n",
    "        counter = np.sqrt(counter);  \n",
    "    else:  \n",
    "        raise Exception('We will program this later......');  \n",
    "    return counter;  "
   ]
  },
  {
   "cell_type": "code",
   "execution_count": null,
   "metadata": {
    "collapsed": true
   },
   "outputs": [],
   "source": [
    "from numpy import float32\n",
    "file = '初筛后的基因数据.csv'\n",
    "expression = np.loadtxt(file, dtype=float32, delimiter=\",\")\n",
    "features = np.array(expression[:,:-1])\n",
    "label = np.array(expression[:,-1], dtype=int)\n",
    "labels = np.zeros(len(label),dtype=int)\n",
    "for i in range(len(labels)):\n",
    "    labels[i]=label[i]-1"
   ]
  },
  {
   "cell_type": "code",
   "execution_count": null,
   "metadata": {
    "collapsed": true
   },
   "outputs": [],
   "source": [
    "import random\n",
    "a=list()\n",
    "count = [0,0,0,0,0,0]\n",
    "(n_samples,n_features) = np.shape(features)\n",
    "for index in range(n_samples):\n",
    "    a.append([features[index],index,labels[index]])\n",
    "a.sort(key = lambda x:x[2])\n",
    "for i in a:\n",
    "    count[i[2]] += 1\n",
    "left = 0\n",
    "right =count[0]-1\n",
    "location = list()\n",
    "for i in range(len(set(labels))):\n",
    "    location += [random.randint(left,right) for _ in range(5)]    \n",
    "    left = left+count[i]\n",
    "    if i<5:\n",
    "        right = right+count[i+1]\n",
    "    else:\n",
    "        right = 0                                                   "
   ]
  },
  {
   "cell_type": "code",
   "execution_count": null,
   "metadata": {
    "collapsed": true
   },
   "outputs": [],
   "source": [
    "def fit(features,labels,k,norm):     \n",
    "    (n_samples,n_features) = np.shape(features)\n",
    "    distance = np.zeros((n_samples,n_samples))\n",
    "    weight = np.zeros(n_features) \n",
    "    for i in range(n_samples):\n",
    "        for j in range(n_samples):\n",
    "            D_value = features[i] - features[j]\n",
    "            if i == j:\n",
    "                distance[i,j] = 10000      \n",
    "            else:\n",
    "                distance[i,j] = distanceNorm(norm,D_value)\n",
    "    \n",
    "    for i in location:\n",
    "        one_sample = a[i][1] \n",
    "        one_feature = features[one_sample]\n",
    "        pr = count[a[i][2]]/n_samples\n",
    "        distance_sort =list()\n",
    "        nearHit = list() \n",
    "        nearMiss = dict()   \n",
    "        n_labels = list(set(labels))\n",
    "        termination = np.zeros(len(n_labels),dtype = int) \n",
    "        del n_labels[n_labels.index(labels[one_sample])]  \n",
    "        for i in n_labels:\n",
    "            nearMiss[i] = list()  \n",
    "        \n",
    "        for index in range(n_samples):\n",
    "            distance_sort.append([distance[one_sample,index],index,labels[index]])\n",
    "        distance_sort.sort(key = lambda x:x[0]) \n",
    "        \n",
    "        for index in range (n_samples):\n",
    "            if distance_sort[index][2]==labels[one_sample]:\n",
    "                if len(nearHit) < k:\n",
    "                    nearHit.append(features[distance_sort[index][1]])\n",
    "                else:\n",
    "                    termination[distance_sort[index][2]] =1   \n",
    "            elif distance_sort[index][2] != labels[one_sample]:\n",
    "                if len(nearMiss[distance_sort[index][2]]) < k:\n",
    "                    nearMiss[distance_sort[index][2]].append(features[distance_sort[index][1]])\n",
    "                else:\n",
    "                    termination[distance_sort[index][2]] =1\n",
    "            if list(termination).count(0) == 0:      \n",
    "                break\n",
    "        \n",
    "        nearHit_term = np.zeros(n_features)\n",
    "        for i in nearHit:\n",
    "            nearHit_term +=np.abs(np.power(one_feature-i,2))\n",
    "        nearMiss_term =np.zeros((len(n_labels),n_features))\n",
    "        for index,label in enumerate(nearMiss.keys()):  \n",
    "            for x in nearMiss[label]:\n",
    "                nearMiss_term[index] +=  np.abs(np.power(one_feature-x,2))\n",
    "            pc = count[label]/n_samples\n",
    "            weight += (pc/(1-pr))*nearMiss_term[index]/(k*len(nearMiss.keys()))\n",
    "        weight -= nearHit_term/k\n",
    "    \n",
    "    return weight/(len(location))"
   ]
  },
  {
   "cell_type": "code",
   "execution_count": null,
   "metadata": {
    "collapsed": true
   },
   "outputs": [],
   "source": [
    "acc_list =list()\n",
    "\n",
    "def main():\n",
    "   \n",
    "    n_samples, n_features = features.shape    \n",
    "    kf =KFold(n_splits=10)\n",
    "    feature_number_list =list(range(5,21,1))+list(range(30,101,10))\n",
    "    \n",
    "    for feature_number in feature_number_list:\n",
    "        clf = RandomForestClassifier(n_estimators=200,max_features='sqrt', oob_score=True,random_state=120)\n",
    "        correct = 0\n",
    "        for train, test in kf.split(features):\n",
    "            score = fit(features, labels,k=5,norm='2') \n",
    "            idx = feature_ranking(score)  \n",
    "            selected_features = features[:, idx[0:feature_number]] \n",
    "            clf.fit(selected_features[train], labels[train])  \n",
    "            y_predict = clf.predict(selected_features[test])\n",
    "            acc = accuracy_score(labels[test], y_predict)\n",
    "            correct = correct + acc\n",
    "        acc_list.append(float(correct)/10)\n",
    "        print('Accuracy:{}'.format(float(correct)/10))\n",
    "    return acc_list\n",
    "main()"
   ]
  }
 ],
 "metadata": {
  "kernelspec": {
   "display_name": "Python 3",
   "language": "python",
   "name": "python3"
  },
  "language_info": {
   "codemirror_mode": {
    "name": "ipython",
    "version": 3
   },
   "file_extension": ".py",
   "mimetype": "text/x-python",
   "name": "python",
   "nbconvert_exporter": "python",
   "pygments_lexer": "ipython3",
   "version": "3.6.1"
  }
 },
 "nbformat": 4,
 "nbformat_minor": 2
}
